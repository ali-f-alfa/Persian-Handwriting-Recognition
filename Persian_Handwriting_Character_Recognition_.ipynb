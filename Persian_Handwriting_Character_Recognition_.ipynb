{
  "cells": [
    {
      "cell_type": "markdown",
      "metadata": {
        "id": "view-in-github",
        "colab_type": "text"
      },
      "source": [
        "<a href=\"https://colab.research.google.com/github/ali-f-alfa/Persian-Handwriting-Recognition/blob/main/Persian_Handwriting_Character_Recognition_.ipynb\" target=\"_parent\"><img src=\"https://colab.research.google.com/assets/colab-badge.svg\" alt=\"Open In Colab\"/></a>"
      ]
    },
    {
      "cell_type": "markdown",
      "metadata": {
        "id": "Sw4F-CVpO6Yy"
      },
      "source": [
        "### Libraries"
      ]
    },
    {
      "cell_type": "code",
      "execution_count": 1,
      "metadata": {
        "id": "jqNwxhCJOf4m"
      },
      "outputs": [],
      "source": [
        "import numpy as np\n",
        "import os\n",
        "import cv2\n",
        "\n",
        "import tensorflow as tf\n",
        "import matplotlib.pyplot as plt\n",
        "import matplotlib.image as mpimg\n",
        "from IPython.display import display\n",
        "from PIL import Image\n",
        "from scipy.ndimage import rotate\n",
        "from keras import backend as K\n",
        "from keras.models import Model,Sequential\n",
        "from keras.layers import Input\n",
        "from keras.callbacks import EarlyStopping,ModelCheckpoint\n",
        "from keras.layers import Conv2D\n",
        "from keras.layers import MaxPooling2D, Reshape,GlobalAveragePooling2D,ZeroPadding2D,MaxPool2D, ZeroPadding2D, BatchNormalization, Flatten, Conv2D, AveragePooling2D, MaxPooling2D, GlobalMaxPooling2D,MaxPool2D\n",
        "from keras.layers import Bidirectional, LSTM\n",
        "from keras.layers import Lambda, Activation, BatchNormalization,Add\n",
        "# from keras.optimizers import Adam,SGD\n",
        "from tensorflow.keras.optimizers import Adam,SGD\n",
        "from keras.layers import Flatten\n",
        "from keras.initializers import glorot_uniform\n",
        "from keras.layers import Dense\n",
        "from keras.layers import Dropout\n",
        "from keras.preprocessing.image import ImageDataGenerator\n",
        "from tensorflow import keras\n",
        "from google.colab.patches import cv2_imshow"
      ]
    },
    {
      "cell_type": "markdown",
      "metadata": {
        "id": "2xMLC5SeOma-"
      },
      "source": [
        "### Mount Drive"
      ]
    },
    {
      "cell_type": "code",
      "execution_count": 4,
      "metadata": {
        "colab": {
          "base_uri": "https://localhost:8080/"
        },
        "id": "C9OOVHuMHoyn",
        "outputId": "0daf6fd0-6235-486b-c917-430b03de33ad"
      },
      "outputs": [
        {
          "output_type": "stream",
          "name": "stdout",
          "text": [
            "Mounted at /content/drive\n"
          ]
        }
      ],
      "source": [
        "from google.colab import drive\n",
        "drive.mount('/content/drive')"
      ]
    },
    {
      "cell_type": "code",
      "execution_count": null,
      "metadata": {
        "id": "iFWYB1JBJNBQ"
      },
      "outputs": [],
      "source": [
        "# Extract Dataset from Drive\n",
        "# !unrar x \"/content/drive/MyDrive/FinalProject/PersianCharacterRecognition/Dataset/Isolated_Letters.rar\"\n",
        "!unrar x \"/content/drive/MyDrive/FinalProject/PersianCharacterRecognition/Dataset/Isolated_Letters_small.rar\""
      ]
    },
    {
      "cell_type": "markdown",
      "metadata": {
        "id": "jf-rZ68oPQjN"
      },
      "source": [
        "## Create Dataset"
      ]
    },
    {
      "cell_type": "code",
      "execution_count": 9,
      "metadata": {
        "id": "ETlMPN5FPPax"
      },
      "outputs": [],
      "source": [
        "def create_dataset(img_folder):\n",
        "   \n",
        "    img_data_array=[]\n",
        "    class_name=[]\n",
        "   \n",
        "    for dir1 in os.listdir(img_folder):\n",
        "        for file in os.listdir(os.path.join(img_folder, dir1)):\n",
        "       \n",
        "            image_path= os.path.join(img_folder, dir1,  file)\n",
        "            image= cv2.imread( image_path, cv2.COLOR_BGR2RGB)\n",
        "            image=cv2.resize(image, (IMG_HEIGHT, IMG_WIDTH),interpolation = cv2.INTER_AREA)\n",
        "            image=np.array(image)\n",
        "            image = image.astype('float32')\n",
        "            image /= 255 \n",
        "            img_data_array.append(image)\n",
        "            class_name.append(dir1)\n",
        "    return img_data_array, class_name"
      ]
    },
    {
      "cell_type": "code",
      "execution_count": 10,
      "metadata": {
        "id": "8FGmVBRpTIdV"
      },
      "outputs": [],
      "source": [
        "IMG_WIDTH=64\n",
        "IMG_HEIGHT=64\n",
        "img_folder='/content/Isolated Letters'"
      ]
    },
    {
      "cell_type": "code",
      "execution_count": 11,
      "metadata": {
        "colab": {
          "base_uri": "https://localhost:8080/"
        },
        "id": "_Rx3Ab2cTTHm",
        "outputId": "099d4219-c7f6-4bf3-f637-0116deba9596"
      },
      "outputs": [
        {
          "output_type": "stream",
          "name": "stdout",
          "text": [
            "['ALEF_B' 'ALEF_S' 'BE' 'CHE' 'DAL' 'EIN' 'FAF' 'GAF' 'GHAF' 'GHEIN' 'HE'\n",
            " 'HE2' 'HE2_S' 'JIM' 'KAF' 'KHE' 'LAM' 'MIM' 'NON' 'PE' 'RE' 'SAD' 'SE'\n",
            " 'SHIN' 'SIN' 'TA' 'TE' 'VAV' 'YEH' 'ZA' 'ZAD' 'ZAL' 'ZHE' 'Ze']\n",
            "16996\n",
            "16996\n"
          ]
        }
      ],
      "source": [
        "img_data, class_name =create_dataset(img_folder)\n",
        "print(np.unique(class_name))\n",
        "print(len(class_name))\n",
        "print(len(img_data))"
      ]
    },
    {
      "cell_type": "code",
      "execution_count": 12,
      "metadata": {
        "colab": {
          "base_uri": "https://localhost:8080/"
        },
        "id": "Cz1A7gKPULPp",
        "outputId": "48adacc3-236a-4f17-cf8a-b84960cbf8f1"
      },
      "outputs": [
        {
          "output_type": "stream",
          "name": "stdout",
          "text": [
            "GHAF\n",
            "[1.         1.         1.         1.         1.         1.\n",
            " 1.         1.         1.         1.         1.         1.\n",
            " 1.         1.         1.         1.         1.         1.\n",
            " 1.         1.         1.         1.         1.         1.\n",
            " 1.         1.         1.         1.         1.         1.\n",
            " 1.         0.39215687 0.         0.         0.         0.34117648\n",
            " 1.         1.         1.         1.         1.         1.\n",
            " 1.         1.         1.         1.         1.         1.\n",
            " 1.         1.         1.         1.         1.         1.\n",
            " 1.         0.77254903 0.         0.         0.         0.19215687\n",
            " 0.77254903 1.         1.         1.        ]\n"
          ]
        }
      ],
      "source": [
        "print(class_name[0])\n",
        "print(img_data[0][10])"
      ]
    },
    {
      "cell_type": "markdown",
      "source": [
        "## Model"
      ],
      "metadata": {
        "id": "lP7pxbOpNIbS"
      }
    },
    {
      "cell_type": "code",
      "source": [
        "model = Sequential()\n",
        "model.add(tf.keras.applications.ResNet50(include_top = False,\n",
        "                                         pooling = \"avg\",\n",
        "                                         weights = None,\n",
        "                                         input_shape=(64, 64, 3)))\n",
        "model.add(Dense(34, activation = \"softmax\"))\n",
        "model.summary()"
      ],
      "metadata": {
        "colab": {
          "base_uri": "https://localhost:8080/"
        },
        "id": "gQnL6rl6NKp1",
        "outputId": "9fd76f32-bdfc-4249-c274-6053107581a2"
      },
      "execution_count": 13,
      "outputs": [
        {
          "output_type": "stream",
          "name": "stdout",
          "text": [
            "Model: \"sequential\"\n",
            "_________________________________________________________________\n",
            " Layer (type)                Output Shape              Param #   \n",
            "=================================================================\n",
            " resnet50 (Functional)       (None, 2048)              23587712  \n",
            "                                                                 \n",
            " dense (Dense)               (None, 34)                69666     \n",
            "                                                                 \n",
            "=================================================================\n",
            "Total params: 23,657,378\n",
            "Trainable params: 23,604,258\n",
            "Non-trainable params: 53,120\n",
            "_________________________________________________________________\n"
          ]
        }
      ]
    },
    {
      "cell_type": "code",
      "source": [
        "from keras.preprocessing.image import ImageDataGenerator\n",
        "DATA_TRAIN_PATH='/content/Isolated Letters/'\n",
        "train_datagen = ImageDataGenerator()\n",
        "IMG_WIDTH =64\n",
        "IMG_HEIGHT =64\n",
        "EPOCHS=25\n",
        "BATCH_SIZE=500\n",
        "train_generator  = train_datagen.flow_from_directory(\n",
        "        DATA_TRAIN_PATH,\n",
        "        target_size=(IMG_WIDTH, IMG_HEIGHT),\n",
        "        batch_size=BATCH_SIZE,\n",
        "        class_mode='categorical')"
      ],
      "metadata": {
        "colab": {
          "base_uri": "https://localhost:8080/"
        },
        "id": "PN831Z1_PHmB",
        "outputId": "2bdd020d-34f8-4dc9-dda4-31b50e7bb458"
      },
      "execution_count": 14,
      "outputs": [
        {
          "output_type": "stream",
          "name": "stdout",
          "text": [
            "Found 16996 images belonging to 34 classes.\n"
          ]
        }
      ]
    },
    {
      "cell_type": "code",
      "source": [
        "loss = 'categorical_crossentropy'\n",
        "optimizer = 'adam'\n",
        "model.compile(loss= loss, optimizer= optimizer, metrics=['accuracy'])\n",
        "H = model.fit(train_generator, epochs=EPOCHS, batch_size=BATCH_SIZE,verbose=True)"
      ],
      "metadata": {
        "colab": {
          "base_uri": "https://localhost:8080/"
        },
        "id": "9zSo2BF6Paw5",
        "outputId": "ba2cf577-2c85-4718-f285-eab51cf5bb70"
      },
      "execution_count": 15,
      "outputs": [
        {
          "output_type": "stream",
          "name": "stdout",
          "text": [
            "Epoch 1/25\n",
            "34/34 [==============================] - 74s 721ms/step - loss: 1.5266 - accuracy: 0.5724\n",
            "Epoch 2/25\n",
            "34/34 [==============================] - 18s 510ms/step - loss: 0.3299 - accuracy: 0.8967\n",
            "Epoch 3/25\n",
            "34/34 [==============================] - 18s 516ms/step - loss: 0.1279 - accuracy: 0.9600\n",
            "Epoch 4/25\n",
            "34/34 [==============================] - 18s 508ms/step - loss: 0.0940 - accuracy: 0.9692\n",
            "Epoch 5/25\n",
            "34/34 [==============================] - 17s 504ms/step - loss: 0.0687 - accuracy: 0.9782\n",
            "Epoch 6/25\n",
            "34/34 [==============================] - 18s 509ms/step - loss: 0.0821 - accuracy: 0.9720\n",
            "Epoch 7/25\n",
            "34/34 [==============================] - 18s 517ms/step - loss: 0.0612 - accuracy: 0.9798\n",
            "Epoch 8/25\n",
            "34/34 [==============================] - 18s 507ms/step - loss: 0.0477 - accuracy: 0.9842\n",
            "Epoch 9/25\n",
            "34/34 [==============================] - 17s 505ms/step - loss: 0.0478 - accuracy: 0.9853\n",
            "Epoch 10/25\n",
            "34/34 [==============================] - 17s 503ms/step - loss: 0.0488 - accuracy: 0.9849\n",
            "Epoch 11/25\n",
            "34/34 [==============================] - 18s 525ms/step - loss: 0.0484 - accuracy: 0.9856\n",
            "Epoch 12/25\n",
            "34/34 [==============================] - 17s 507ms/step - loss: 0.0429 - accuracy: 0.9871\n",
            "Epoch 13/25\n",
            "34/34 [==============================] - 18s 508ms/step - loss: 0.0395 - accuracy: 0.9875\n",
            "Epoch 14/25\n",
            "34/34 [==============================] - 18s 508ms/step - loss: 0.0466 - accuracy: 0.9856\n",
            "Epoch 15/25\n",
            "34/34 [==============================] - 18s 520ms/step - loss: 0.0411 - accuracy: 0.9878\n",
            "Epoch 16/25\n",
            "34/34 [==============================] - 18s 537ms/step - loss: 0.0317 - accuracy: 0.9898\n",
            "Epoch 17/25\n",
            "34/34 [==============================] - 20s 551ms/step - loss: 0.0216 - accuracy: 0.9925\n",
            "Epoch 18/25\n",
            "34/34 [==============================] - 18s 509ms/step - loss: 0.0177 - accuracy: 0.9951\n",
            "Epoch 19/25\n",
            "34/34 [==============================] - 18s 512ms/step - loss: 0.0201 - accuracy: 0.9937\n",
            "Epoch 20/25\n",
            "34/34 [==============================] - 18s 508ms/step - loss: 0.0187 - accuracy: 0.9935\n",
            "Epoch 21/25\n",
            "34/34 [==============================] - 18s 522ms/step - loss: 0.0237 - accuracy: 0.9931\n",
            "Epoch 22/25\n",
            "34/34 [==============================] - 18s 511ms/step - loss: 0.0217 - accuracy: 0.9938\n",
            "Epoch 23/25\n",
            "34/34 [==============================] - 18s 511ms/step - loss: 0.0159 - accuracy: 0.9951\n",
            "Epoch 24/25\n",
            "34/34 [==============================] - 17s 505ms/step - loss: 0.0470 - accuracy: 0.9879\n",
            "Epoch 25/25\n",
            "34/34 [==============================] - 17s 506ms/step - loss: 0.0330 - accuracy: 0.9900\n"
          ]
        }
      ]
    },
    {
      "cell_type": "code",
      "source": [
        "N = np.arange(0, EPOCHS)\n",
        "plt.style.use(\"ggplot\")\n",
        "plt.figure()\n",
        "plt.plot(N, H.history[\"loss\"], label=\"train_loss\")\n",
        "plt.plot(N, H.history[\"accuracy\"], label=\"accuracy\")\n",
        "plt.title(\"Training Loss and Accuracy\")\n",
        "plt.xlabel(\"Epoch #\")\n",
        "plt.ylabel(\"Loss/Accuracy\")\n",
        "plt.legend(loc=\"lower left\")\n",
        "plt.show()"
      ],
      "metadata": {
        "colab": {
          "base_uri": "https://localhost:8080/",
          "height": 299
        },
        "id": "-LnKvHpAQyHp",
        "outputId": "2f565b7c-e2b4-46c7-e4ce-e744ad461a67"
      },
      "execution_count": 16,
      "outputs": [
        {
          "output_type": "display_data",
          "data": {
            "text/plain": [
              "<Figure size 432x288 with 1 Axes>"
            ],
            "image/png": "[encoded data removed]"
          },
          "metadata": {}
        }
      ]
    },
    {
      "cell_type": "code",
      "source": [
        "model_json = model.to_json()\n",
        "with open(\"/content/drive/MyDrive/FinalProject/PersianCharacterRecognition/character_resnet_model.json\", \"w\") as json_file:\n",
        "    json_file.write(model_json)\n",
        "\n",
        "model.save_weights(\"/content/drive/MyDrive/FinalProject/PersianCharacterRecognition/character_resnet_model.h5\")\n",
        "print(\"Saved model to disk\")"
      ],
      "metadata": {
        "colab": {
          "base_uri": "https://localhost:8080/"
        },
        "id": "GfJN-AKRS279",
        "outputId": "f7ad8d05-525e-4ad7-bfe7-7aae82ba0fec"
      },
      "execution_count": 17,
      "outputs": [
        {
          "output_type": "stream",
          "name": "stdout",
          "text": [
            "Saved model to disk\n"
          ]
        }
      ]
    }
  ],
  "metadata": {
    "colab": {
      "provenance": [],
      "authorship_tag": "ABX9TyPGeQ1+OYqzyFssTPRcgvWq",
      "include_colab_link": true
    },
    "kernelspec": {
      "display_name": "Python 3",
      "name": "python3"
    },
    "language_info": {
      "name": "python"
    },
    "accelerator": "GPU",
    "gpuClass": "standard"
  },
  "nbformat": 4,
  "nbformat_minor": 0
}